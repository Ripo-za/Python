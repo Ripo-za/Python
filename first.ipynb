{
  "nbformat": 4,
  "nbformat_minor": 0,
  "metadata": {
    "colab": {
      "name": "Untitled1.ipynb",
      "version": "0.3.2",
      "provenance": [],
      "collapsed_sections": [],
      "toc_visible": true,
      "include_colab_link": true
    },
    "kernelspec": {
      "name": "python3",
      "display_name": "Python 3"
    },
    "accelerator": "GPU"
  },
  "cells": [
    {
      "cell_type": "markdown",
      "metadata": {
        "id": "view-in-github",
        "colab_type": "text"
      },
      "source": [
        "<a href=\"https://colab.research.google.com/github/Ripo-za/Python/blob/master/first.ipynb\" target=\"_parent\"><img src=\"https://colab.research.google.com/assets/colab-badge.svg\" alt=\"Open In Colab\"/></a>"
      ]
    },
    {
      "cell_type": "code",
      "metadata": {
        "id": "AteNIOmScKUl",
        "colab_type": "code",
        "colab": {}
      },
      "source": [
        "!git clone https://github.com/deepfakes/faceswap.git"
      ],
      "execution_count": 0,
      "outputs": []
    },
    {
      "cell_type": "code",
      "metadata": {
        "id": "QGOXnoC6dgCv",
        "colab_type": "code",
        "outputId": "3f22f7ff-2287-4e21-c410-d34f2ade035d",
        "colab": {
          "base_uri": "https://localhost:8080/",
          "height": 445
        }
      },
      "source": [
        "!source env/bin/activate\n",
        "# !python faceswap/faceswap.py extract -h\n",
        "# !python faceswap/faceswap.py extract -i faceswap/src/3.mp4 -o faceswap/face/\n",
        "!python faceswap/faceswap.py train -A faceswap/face/trump -B faceswap/face/xi -m faceswap/trump_cage_model/"
      ],
      "execution_count": 0,
      "outputs": [
        {
          "output_type": "stream",
          "text": [
            "07/06/2019 13:47:46 INFO     Log level set to: INFO\n",
            "Using TensorFlow backend.\n",
            "07/06/2019 13:47:47 INFO     Model A Directory: /content/faceswap/face/trump\n",
            "07/06/2019 13:47:47 INFO     Model B Directory: /content/faceswap/face/xi\n",
            "07/06/2019 13:47:47 INFO     Training data directory: /content/faceswap/trump_cage_model\n",
            "07/06/2019 13:47:47 INFO     ===================================================\n",
            "07/06/2019 13:47:47 INFO       Starting\n",
            "07/06/2019 13:47:47 INFO       Press 'ENTER' to save and quit\n",
            "07/06/2019 13:47:47 INFO       Press 'S' to save model weights immediately\n",
            "07/06/2019 13:47:47 INFO     ===================================================\n",
            "07/06/2019 13:47:48 INFO     Loading data, this may take a while...\n",
            "07/06/2019 13:47:48 INFO     Loading Model from Original plugin...\n",
            "07/06/2019 13:47:50 INFO     Using configuration saved in state file\n",
            "07/06/2019 13:47:50 WARNING  From /usr/local/lib/python3.6/dist-packages/tensorflow/python/framework/op_def_library.py:263: colocate_with (from tensorflow.python.framework.ops) is deprecated and will be removed in a future version.\\nInstructions for updating:\\nColocations handled automatically by placer.\n",
            "07/06/2019 13:47:52 INFO     Loaded model from disk: '/content/faceswap/trump_cage_model'\n",
            "07/06/2019 13:47:53 INFO     Loading Trainer from Original plugin...\n",
            "07/06/2019 13:47:55 INFO     Enabled TensorBoard Logging\n",
            "07/06/2019 13:47:56 WARNING  From /usr/local/lib/python3.6/dist-packages/tensorflow/python/ops/math_ops.py:3066: to_int32 (from tensorflow.python.ops.math_ops) is deprecated and will be removed in a future version.\\nInstructions for updating:\\nUse tf.cast instead.\n",
            "07/06/2019 13:48:10 INFO     Backing up models...\n",
            "07/06/2019 13:48:11 INFO     [Saved models] - Average since last save: loss_A: 0.02870, loss_B: 0.04052\n",
            "07/06/2019 13:50:32 INFO     [Saved models] - Average since last save: loss_A: 0.03269, loss_B: 0.04396\n",
            "07/06/2019 13:52:53 INFO     [Saved models] - Average since last save: loss_A: 0.03271, loss_B: 0.04373\n",
            "07/06/2019 13:52:56 INFO     Exit requested! The trainer will complete its current cycle, save the models and quit (This can take a couple of minutes depending on your training speed). If you want to kill it now, press Ctrl + c\n",
            "07/06/2019 13:52:58 INFO     [Saved models] - Average since last save: loss_A: 0.03165, loss_B: 0.04231\n"
          ],
          "name": "stdout"
        }
      ]
    },
    {
      "cell_type": "code",
      "metadata": {
        "id": "xsUllfkKjcCw",
        "colab_type": "code",
        "colab": {}
      },
      "source": [
        "!rm faceswap/trump_cage_model/* -r"
      ],
      "execution_count": 0,
      "outputs": []
    },
    {
      "cell_type": "code",
      "metadata": {
        "id": "iz4ZtlLx7n1m",
        "colab_type": "code",
        "colab": {}
      },
      "source": [
        "!ls -l faceswap/trump_cage_model/"
      ],
      "execution_count": 0,
      "outputs": []
    },
    {
      "cell_type": "code",
      "metadata": {
        "id": "gK145Y3j5yTm",
        "colab_type": "code",
        "colab": {}
      },
      "source": [
        "!source env/bin/activate\n",
        "\n",
        "!python faceswap/faceswap.py convert -i faceswap/test -o faceswap/converted/ -m faceswap/trump_cage_model/"
      ],
      "execution_count": 0,
      "outputs": []
    },
    {
      "cell_type": "code",
      "metadata": {
        "id": "RDccSM8a6MRK",
        "colab_type": "code",
        "colab": {}
      },
      "source": [
        "!mkdir faceswap/test\n",
        "!mv 111.jpeg faceswap/test "
      ],
      "execution_count": 0,
      "outputs": []
    },
    {
      "cell_type": "code",
      "metadata": {
        "id": "BKGWlqQnDjWg",
        "colab_type": "code",
        "colab": {}
      },
      "source": [
        "!mkdir drive/faceswap\n",
        "!cp faceswap drive/ -r\n"
      ],
      "execution_count": 0,
      "outputs": []
    },
    {
      "cell_type": "code",
      "metadata": {
        "id": "Qgyqarn-FAIA",
        "colab_type": "code",
        "colab": {}
      },
      "source": [
        "!mv 444.jpg faceswap/test/"
      ],
      "execution_count": 0,
      "outputs": []
    },
    {
      "cell_type": "code",
      "metadata": {
        "id": "NSgYdXJOaiSD",
        "colab_type": "code",
        "outputId": "46990855-f914-441d-a77c-7a3a55d2d1ab",
        "colab": {
          "base_uri": "https://localhost:8080/",
          "height": 34
        }
      },
      "source": [
        "!du -sh  faceswap/"
      ],
      "execution_count": 0,
      "outputs": [
        {
          "output_type": "stream",
          "text": [
            "1.3G\tfaceswap/\n"
          ],
          "name": "stdout"
        }
      ]
    },
    {
      "cell_type": "code",
      "metadata": {
        "id": "0eqbz2V7kN7h",
        "colab_type": "code",
        "outputId": "7347d8d8-7eaa-4678-acc0-13a5597eacf1",
        "colab": {
          "base_uri": "https://localhost:8080/",
          "height": 224
        }
      },
      "source": [
        "!apt-get install -y -qq software-properties-common python-software-properties module-init-tools\n",
        "!add-apt-repository -y ppa:alessandro-strada/ppa 2>&1 > /dev/null\n",
        "!apt-get update -qq 2>&1 > /dev/null\n",
        "!apt-get -y install -qq google-drive-ocamlfuse fuse\n",
        "from google.colab import auth\n",
        "auth.authenticate_user()\n",
        "from oauth2client.client import GoogleCredentials\n",
        "creds = GoogleCredentials.get_application_default()\n",
        "import getpass\n",
        "!google-drive-ocamlfuse -headless -id={creds.client_id} -secret={creds.client_secret} < /dev/null 2>&1 | grep URL\n",
        "vcode = getpass.getpass()\n",
        "!echo {vcode} | google-drive-ocamlfuse -headless -id={creds.client_id} -secret={creds.client_secret}\n"
      ],
      "execution_count": 0,
      "outputs": [
        {
          "output_type": "stream",
          "text": [
            "E: Package 'python-software-properties' has no installation candidate\n",
            "Selecting previously unselected package google-drive-ocamlfuse.\n",
            "(Reading database ... 130942 files and directories currently installed.)\n",
            "Preparing to unpack .../google-drive-ocamlfuse_0.7.6-0ubuntu1~ubuntu18.04.1_amd64.deb ...\n",
            "Unpacking google-drive-ocamlfuse (0.7.6-0ubuntu1~ubuntu18.04.1) ...\n",
            "Setting up google-drive-ocamlfuse (0.7.6-0ubuntu1~ubuntu18.04.1) ...\n",
            "Processing triggers for man-db (2.8.3-2ubuntu0.1) ...\n",
            "Please, open the following URL in a web browser: https://accounts.google.com/o/oauth2/auth?client_id=32555940559.apps.googleusercontent.com&redirect_uri=urn%3Aietf%3Awg%3Aoauth%3A2.0%3Aoob&scope=https%3A%2F%2Fwww.googleapis.com%2Fauth%2Fdrive&response_type=code&access_type=offline&approval_prompt=force\n",
            "··········\n",
            "Please, open the following URL in a web browser: https://accounts.google.com/o/oauth2/auth?client_id=32555940559.apps.googleusercontent.com&redirect_uri=urn%3Aietf%3Awg%3Aoauth%3A2.0%3Aoob&scope=https%3A%2F%2Fwww.googleapis.com%2Fauth%2Fdrive&response_type=code&access_type=offline&approval_prompt=force\n",
            "Please enter the verification code: Access token retrieved correctly.\n"
          ],
          "name": "stdout"
        }
      ]
    },
    {
      "cell_type": "code",
      "metadata": {
        "id": "yPN874hSLa2O",
        "colab_type": "code",
        "colab": {}
      },
      "source": [
        ""
      ],
      "execution_count": 0,
      "outputs": []
    },
    {
      "cell_type": "code",
      "metadata": {
        "id": "n6-aDK3Ulty3",
        "colab_type": "code",
        "colab": {}
      },
      "source": [
        "\n",
        "!mkdir -p drive1\n",
        "\n",
        "!google-drive-ocamlfuse drive1"
      ],
      "execution_count": 0,
      "outputs": []
    },
    {
      "cell_type": "code",
      "metadata": {
        "id": "kl6BieqgmkXK",
        "colab_type": "code",
        "colab": {}
      },
      "source": [
        "!zip -r  face.zip faceswap/\n"
      ],
      "execution_count": 0,
      "outputs": []
    },
    {
      "cell_type": "code",
      "metadata": {
        "id": "rzrn4MOcrgS0",
        "colab_type": "code",
        "colab": {}
      },
      "source": [
        "!du -sh faceswap/trump_cage_model/"
      ],
      "execution_count": 0,
      "outputs": []
    },
    {
      "cell_type": "code",
      "metadata": {
        "id": "-7ES2evOrQ67",
        "colab_type": "code",
        "colab": {}
      },
      "source": [
        "!rm faceswap/include/ -r"
      ],
      "execution_count": 0,
      "outputs": []
    },
    {
      "cell_type": "code",
      "metadata": {
        "id": "lbuYoi7ll6BG",
        "colab_type": "code",
        "colab": {}
      },
      "source": [
        "!ls -l\n"
      ],
      "execution_count": 0,
      "outputs": []
    },
    {
      "cell_type": "code",
      "metadata": {
        "id": "LLwvrYWJucpf",
        "colab_type": "code",
        "colab": {}
      },
      "source": [
        "!ssh-keygen -t rsa -C \"ripoza1314@gmail.com\"\n"
      ],
      "execution_count": 0,
      "outputs": []
    },
    {
      "cell_type": "code",
      "metadata": {
        "id": "P3PQHJyxwW3P",
        "colab_type": "code",
        "colab": {}
      },
      "source": [
        "!git clone git@github.com:Ripo-za/face.git\n"
      ],
      "execution_count": 0,
      "outputs": []
    },
    {
      "cell_type": "code",
      "metadata": {
        "id": "AN_iN0t72ZHj",
        "colab_type": "code",
        "colab": {}
      },
      "source": [
        "!ls\n"
      ],
      "execution_count": 0,
      "outputs": []
    },
    {
      "cell_type": "code",
      "metadata": {
        "id": "a83sgLpOxAAg",
        "colab_type": "code",
        "colab": {}
      },
      "source": [
        "!git remote add origin git@github.com:Ripo-za/face.git"
      ],
      "execution_count": 0,
      "outputs": []
    },
    {
      "cell_type": "code",
      "metadata": {
        "id": "cVzEp7MI2gZ8",
        "colab_type": "code",
        "outputId": "4cfc962e-41d2-4335-8278-e87581acfed0",
        "colab": {
          "base_uri": "https://localhost:8080/",
          "height": 54
        }
      },
      "source": [
        "!cat /root/.ssh/id_rsa.pub"
      ],
      "execution_count": 0,
      "outputs": [
        {
          "output_type": "stream",
          "text": [
            "ssh-rsa AAAAB3NzaC1yc2EAAAADAQABAAABAQCwXy26PUUhkBzS3ne6TLfBNNionI2SiZY0CnMcPiCXhxlQh4143CrZh7Wgj1Rz2w4OnYWEs0VdUjckQHfud4Yi2mlUVH48DaopWuHNBPZaySGqEAfJHYlIFHg1lqFuALWcc+k3coL1THkP1C523UGNDDpc3I7Tq24vgNbyyi2MW6Bgo0THm2NQONwA3O/amAKbVeCCIjsiQx/NUHR5VCwm+WnnYLmcbQZyjS8L179RaXQeZe9RHFzRMG5RroAXhROid7h84/5Sr+RRAc8lWTYQDZ9UNDEqG62KSoXwt13nCkaT9u4i1CWV3iH6OEtiT6VLWXQ1y6Naxyslf6DKca5t ripoza1314@gmail.com\n"
          ],
          "name": "stdout"
        }
      ]
    },
    {
      "cell_type": "code",
      "metadata": {
        "id": "bYzXFCdW3Azu",
        "colab_type": "code",
        "outputId": "29d1099b-5d84-4998-e086-fe1622dc3d1f",
        "colab": {
          "base_uri": "https://localhost:8080/",
          "height": 34
        }
      },
      "source": [
        "!mkdir lp\n",
        "!mv face.zip lp \n",
        "!cd lp\n",
        "!git init"
      ],
      "execution_count": 0,
      "outputs": [
        {
          "output_type": "stream",
          "text": [
            "Initialized empty Git repository in /content/.git/\n"
          ],
          "name": "stdout"
        }
      ]
    },
    {
      "cell_type": "code",
      "metadata": {
        "id": "d-xqWlUR3QeN",
        "colab_type": "code",
        "colab": {}
      },
      "source": [
        "import os\n",
        "os.chdir(\"/content/drive1\")"
      ],
      "execution_count": 0,
      "outputs": []
    },
    {
      "cell_type": "code",
      "metadata": {
        "id": "NVHwcUeO3q2V",
        "colab_type": "code",
        "outputId": "80114f5e-931e-4876-b4e3-553bf7dde8b3",
        "colab": {
          "base_uri": "https://localhost:8080/",
          "height": 63
        }
      },
      "source": [
        "!git clone https://github.com/deepfakes/faceswap.git"
      ],
      "execution_count": 0,
      "outputs": [
        {
          "output_type": "stream",
          "text": [
            "Cloning into 'faceswap'...\n"
          ],
          "name": "stdout"
        }
      ]
    },
    {
      "cell_type": "code",
      "metadata": {
        "id": "2VfnTPDW345A",
        "colab_type": "code",
        "colab": {}
      },
      "source": [
        "\n",
        "!git commit -m \"add \"\n",
        "!git push -u origin master"
      ],
      "execution_count": 0,
      "outputs": []
    },
    {
      "cell_type": "code",
      "metadata": {
        "id": "VSQuizUa4igm",
        "colab_type": "code",
        "outputId": "0cb5c3f1-87c8-4e1d-c63b-a60bee165865",
        "colab": {
          "base_uri": "https://localhost:8080/",
          "height": 272
        }
      },
      "source": [
        "!git add * -f\n"
      ],
      "execution_count": 0,
      "outputs": [
        {
          "output_type": "stream",
          "text": [
            "warning: adding embedded git repository: local\n",
            "hint: You've added another git repository inside your current repository.\n",
            "hint: Clones of the outer repository will not contain the contents of\n",
            "hint: the embedded repository and will not know how to obtain it.\n",
            "hint: If you meant to add a submodule, use:\n",
            "hint: \n",
            "hint: \tgit submodule add <url> local\n",
            "hint: \n",
            "hint: If you added this path by mistake, you can remove it from the\n",
            "hint: index with:\n",
            "hint: \n",
            "hint: \tgit rm --cached local\n",
            "hint: \n",
            "hint: See \"git help submodule\" for more information.\n",
            "^C\n"
          ],
          "name": "stdout"
        }
      ]
    },
    {
      "cell_type": "code",
      "metadata": {
        "id": "dqeDruq74i5j",
        "colab_type": "code",
        "outputId": "1f7a0e18-0fcb-4db8-93dc-6f8123c714f1",
        "colab": {
          "base_uri": "https://localhost:8080/",
          "height": 170
        }
      },
      "source": [
        "!ls -a"
      ],
      "execution_count": 0,
      "outputs": [
        {
          "output_type": "stream",
          "text": [
            ".\t\t    faceswap_gui.log  lib\t\tsrc\n",
            "..\t\t    faceswap.log      LICENSE\t\ttest\n",
            "CODE_OF_CONDUCT.md  faceswap.log.1    local\t\ttools\n",
            "config\t\t    faceswap.py       plugins\t\ttools.py\n",
            "converted\t    .git\t      README.md\t\ttrump_cage_model\n",
            "Dockerfile.cpu\t    .github\t      requirements.txt\tupdate_deps.py\n",
            "Dockerfile.gpu\t    .gitignore\t      scripts\t\tUSAGE.md\n",
            ".dockerignore\t    .install\t      setup.cfg\n",
            "face\t\t    INSTALL.md\t      setup.py\n"
          ],
          "name": "stdout"
        }
      ]
    }
  ]
}