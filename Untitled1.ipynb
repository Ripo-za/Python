{
  "nbformat": 4,
  "nbformat_minor": 0,
  "metadata": {
    "colab": {
      "name": "Untitled1.ipynb",
      "version": "0.3.2",
      "provenance": [],
      "collapsed_sections": [],
      "toc_visible": true,
      "include_colab_link": true
    },
    "kernelspec": {
      "name": "python3",
      "display_name": "Python 3"
    },
    "accelerator": "GPU"
  },
  "cells": [
    {
      "cell_type": "markdown",
      "metadata": {
        "id": "view-in-github",
        "colab_type": "text"
      },
      "source": [
        "<a href=\"https://colab.research.google.com/github/Ripo-za/Python/blob/master/Untitled1.ipynb\" target=\"_parent\"><img src=\"https://colab.research.google.com/assets/colab-badge.svg\" alt=\"Open In Colab\"/></a>"
      ]
    },
    {
      "cell_type": "code",
      "metadata": {
        "id": "AteNIOmScKUl",
        "colab_type": "code",
        "colab": {}
      },
      "source": [
        "!git clone https://github.com/deepfakes/faceswap.git"
      ],
      "execution_count": 0,
      "outputs": []
    },
    {
      "cell_type": "code",
      "metadata": {
        "id": "QGOXnoC6dgCv",
        "colab_type": "code",
        "outputId": "3f22f7ff-2287-4e21-c410-d34f2ade035d",
        "colab": {
          "base_uri": "https://localhost:8080/",
          "height": 445
        }
      },
      "source": [
        "!source env/bin/activate\n",
        "# !python faceswap/faceswap.py extract -h\n",
        "# !python faceswap/faceswap.py extract -i faceswap/src/3.mp4 -o faceswap/face/\n",
        "!python faceswap/faceswap.py train -A faceswap/face/trump -B faceswap/face/xi -m faceswap/trump_cage_model/"
      ],
      "execution_count": 6,
      "outputs": [
        {
          "output_type": "stream",
          "text": [
            "07/06/2019 13:47:46 INFO     Log level set to: INFO\n",
            "Using TensorFlow backend.\n",
            "07/06/2019 13:47:47 INFO     Model A Directory: /content/faceswap/face/trump\n",
            "07/06/2019 13:47:47 INFO     Model B Directory: /content/faceswap/face/xi\n",
            "07/06/2019 13:47:47 INFO     Training data directory: /content/faceswap/trump_cage_model\n",
            "07/06/2019 13:47:47 INFO     ===================================================\n",
            "07/06/2019 13:47:47 INFO       Starting\n",
            "07/06/2019 13:47:47 INFO       Press 'ENTER' to save and quit\n",
            "07/06/2019 13:47:47 INFO       Press 'S' to save model weights immediately\n",
            "07/06/2019 13:47:47 INFO     ===================================================\n",
            "07/06/2019 13:47:48 INFO     Loading data, this may take a while...\n",
            "07/06/2019 13:47:48 INFO     Loading Model from Original plugin...\n",
            "07/06/2019 13:47:50 INFO     Using configuration saved in state file\n",
            "07/06/2019 13:47:50 WARNING  From /usr/local/lib/python3.6/dist-packages/tensorflow/python/framework/op_def_library.py:263: colocate_with (from tensorflow.python.framework.ops) is deprecated and will be removed in a future version.\\nInstructions for updating:\\nColocations handled automatically by placer.\n",
            "07/06/2019 13:47:52 INFO     Loaded model from disk: '/content/faceswap/trump_cage_model'\n",
            "07/06/2019 13:47:53 INFO     Loading Trainer from Original plugin...\n",
            "07/06/2019 13:47:55 INFO     Enabled TensorBoard Logging\n",
            "07/06/2019 13:47:56 WARNING  From /usr/local/lib/python3.6/dist-packages/tensorflow/python/ops/math_ops.py:3066: to_int32 (from tensorflow.python.ops.math_ops) is deprecated and will be removed in a future version.\\nInstructions for updating:\\nUse tf.cast instead.\n",
            "07/06/2019 13:48:10 INFO     Backing up models...\n",
            "07/06/2019 13:48:11 INFO     [Saved models] - Average since last save: loss_A: 0.02870, loss_B: 0.04052\n",
            "07/06/2019 13:50:32 INFO     [Saved models] - Average since last save: loss_A: 0.03269, loss_B: 0.04396\n",
            "07/06/2019 13:52:53 INFO     [Saved models] - Average since last save: loss_A: 0.03271, loss_B: 0.04373\n",
            "07/06/2019 13:52:56 INFO     Exit requested! The trainer will complete its current cycle, save the models and quit (This can take a couple of minutes depending on your training speed). If you want to kill it now, press Ctrl + c\n",
            "07/06/2019 13:52:58 INFO     [Saved models] - Average since last save: loss_A: 0.03165, loss_B: 0.04231\n"
          ],
          "name": "stdout"
        }
      ]
    },
    {
      "cell_type": "code",
      "metadata": {
        "id": "xsUllfkKjcCw",
        "colab_type": "code",
        "colab": {}
      },
      "source": [
        "!rm faceswap/trump_cage_model/* -r"
      ],
      "execution_count": 0,
      "outputs": []
    },
    {
      "cell_type": "code",
      "metadata": {
        "id": "iz4ZtlLx7n1m",
        "colab_type": "code",
        "colab": {}
      },
      "source": [
        "!ls -l faceswap/trump_cage_model/"
      ],
      "execution_count": 0,
      "outputs": []
    },
    {
      "cell_type": "code",
      "metadata": {
        "id": "gK145Y3j5yTm",
        "colab_type": "code",
        "colab": {}
      },
      "source": [
        "!source env/bin/activate\n",
        "\n",
        "!python faceswap/faceswap.py convert -i faceswap/test -o faceswap/converted/ -m faceswap/trump_cage_model/"
      ],
      "execution_count": 0,
      "outputs": []
    },
    {
      "cell_type": "code",
      "metadata": {
        "id": "RDccSM8a6MRK",
        "colab_type": "code",
        "colab": {}
      },
      "source": [
        "!mkdir faceswap/test\n",
        "!mv 111.jpeg faceswap/test "
      ],
      "execution_count": 0,
      "outputs": []
    },
    {
      "cell_type": "code",
      "metadata": {
        "id": "BKGWlqQnDjWg",
        "colab_type": "code",
        "colab": {}
      },
      "source": [
        "!mkdir drive/faceswap\n",
        "!cp faceswap drive/ -r\n"
      ],
      "execution_count": 0,
      "outputs": []
    },
    {
      "cell_type": "code",
      "metadata": {
        "id": "Qgyqarn-FAIA",
        "colab_type": "code",
        "colab": {}
      },
      "source": [
        "!mv 444.jpg faceswap/test/"
      ],
      "execution_count": 0,
      "outputs": []
    },
    {
      "cell_type": "code",
      "metadata": {
        "id": "NSgYdXJOaiSD",
        "colab_type": "code",
        "colab": {
          "base_uri": "https://localhost:8080/",
          "height": 51
        },
        "outputId": "06bd5e73-964d-4ee7-bb81-2a3618962ee9"
      },
      "source": [
        "!cd faceswap/ \n",
        "!ls"
      ],
      "execution_count": 5,
      "outputs": [
        {
          "output_type": "stream",
          "text": [
            "crash_report.2019.07.06.091429129654.log  drive  faceswap\n",
            "crash_report.2019.07.06.104234018787.log  env\t sample_data\n"
          ],
          "name": "stdout"
        }
      ]
    }
  ]
}